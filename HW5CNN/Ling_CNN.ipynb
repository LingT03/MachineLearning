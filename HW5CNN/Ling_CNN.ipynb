{
 "cells": [
  {
   "cell_type": "markdown",
   "metadata": {},
   "source": [
    "<h1 align = \"center\">Homework5: Convolutional Neural Networks </h1>\n",
    "\n",
    "### CS3210: Machine Learning\n",
    "### Instructor: Feng Jiang \n",
    "\n",
    "#### Author: Ling Thang\n",
    "\n",
    "**Assigned: April 11, 2021**  \n",
    "**Due: April 21, 2021**\n",
    "\n",
    "---"
   ]
  },
  {
   "cell_type": "markdown",
   "metadata": {},
   "source": [
    "<h1 align = \"center\">Assignment Specifications </h1>\n",
    "\n",
    "**Design your own CNN structure:**\n",
    "- (# of convolutional layers, # of fully connected layers, # of filters, size of the filters )\n",
    "- At least two convolutional layers\n",
    "- Max pooling at least once\n",
    "- Use one time \"Drop Out\" by 50% in one of the fully connected layers.\n",
    "- Write (or draw) down the structure of your CNN in report/colab notebook\n",
    "- Write down the batch size and epoch number in report/colab notebook\n",
    "- Report the performance of the model in report/colab notebook.\n"
   ]
  },
  {
   "cell_type": "code",
   "execution_count": 1,
   "metadata": {},
   "outputs": [
    {
     "data": {
      "text/plain": [
       "<matplotlib.image.AxesImage at 0x310088f80>"
      ]
     },
     "execution_count": 1,
     "metadata": {},
     "output_type": "execute_result"
    },
    {
     "data": {
      "image/png": "[encoded data removed]",
      "text/plain": [
       "<Figure size 640x480 with 1 Axes>"
      ]
     },
     "metadata": {},
     "output_type": "display_data"
    }
   ],
   "source": [
    "# import libraries \n",
    "import numpy as np\n",
    "import matplotlib.pyplot as plt\n",
    "from keras.datasets import mnist\n",
    "\n",
    "# import MNIST dataset\n",
    "(train_images, train_labels), (test_images, test_labels) = mnist.load_data()\n",
    "\n",
    "# display a random image in the training data\n",
    "plt.imshow(train_images[np.random.randint(0, train_images.shape[0])], cmap='gray')\n"
   ]
  },
  {
   "cell_type": "code",
   "execution_count": null,
   "metadata": {},
   "outputs": [],
   "source": []
  }
 ],
 "metadata": {
  "kernelspec": {
   "display_name": "Python 3",
   "language": "python",
   "name": "python3"
  },
  "language_info": {
   "codemirror_mode": {
    "name": "ipython",
    "version": 3
   },
   "file_extension": ".py",
   "mimetype": "text/x-python",
   "name": "python",
   "nbconvert_exporter": "python",
   "pygments_lexer": "ipython3",
   "version": "3.12.2"
  }
 },
 "nbformat": 4,
 "nbformat_minor": 2
}
