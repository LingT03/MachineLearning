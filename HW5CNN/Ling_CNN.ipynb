{
 "cells": [
  {
   "cell_type": "markdown",
   "metadata": {},
   "source": [
    "<h1 align = \"center\">Homework5: Convolutional Neural Networks </h1>\n",
    "\n",
    "### CS3210: Machine Learning\n",
    "### Instructor: Feng Jiang \n",
    "--------------\n",
    "### Author: Ling Thang\n",
    "\n",
    "**Assigned: April 11, 2021**  \n",
    "**Due: April 21, 2021**\n",
    "\n",
    "---"
   ]
  },
  {
   "cell_type": "markdown",
   "metadata": {},
   "source": [
    "<h1 align = \"center\">Assignment Specifications </h1>\n",
    "\n",
    "**Design your own CNN structure:**\n",
    "- (# of convolutional layers, # of fully connected layers, # of filters, size of the filters )\n",
    "- At least two convolutional layers\n",
    "- Max pooling at least once\n",
    "- Use one time \"Drop Out\" by 50% in one of the fully connected layers.\n",
    "- Write (or draw) down the structure of your CNN in report/colab notebook\n",
    "- Write down the batch size and epoch number in report/colab notebook\n",
    "- Report the performance of the model in report/colab notebook.\n"
   ]
  },
  {
   "cell_type": "markdown",
   "metadata": {},
   "source": []
  }
 ],
 "metadata": {
  "language_info": {
   "name": "python"
  }
 },
 "nbformat": 4,
 "nbformat_minor": 2
}
