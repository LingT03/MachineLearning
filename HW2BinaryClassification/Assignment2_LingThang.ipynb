{
 "cells": [
  {
   "cell_type": "markdown",
   "metadata": {},
   "source": [
    "### Ling Thang \n",
    "##### HW2 Binary Classification\n",
    "##### CS3210 - Machine Learning \n",
    "##### Feng Jiang \n",
    "\n",
    "## Sources\n",
    "- https://www.kaggle.com/datasets/uciml/pima-indians-diabetes-database/data\n",
    "- https://www.kaggle.com/code/jboscher/starter-pima-indians-diabetes-database-3d235725-1"
   ]
  },
  {
   "cell_type": "code",
   "execution_count": 60,
   "metadata": {},
   "outputs": [],
   "source": [
    "# import libraries\n",
    "import numpy as np \n",
    "import pandas as pd\n",
    "import matplotlib.pyplot as plt\n",
    "from sklearn.model_selection import train_test_split\n",
    "from sklearn.linear_model import LogisticRegression\n",
    "from sklearn.metrics import confusion_matrix, precision_score, recall_score, f1_score, roc_curve, roc_auc_score"
   ]
  },
  {
   "cell_type": "markdown",
   "metadata": {},
   "source": [
    "# Using pandas to read from the csv file"
   ]
  },
  {
   "cell_type": "code",
   "execution_count": 61,
   "metadata": {},
   "outputs": [
    {
     "name": "stdout",
     "output_type": "stream",
     "text": [
      "The dataset has 768 rows and 9 columns\n",
      "\n",
      "   Pregnant  Glucose  BP  SkinThickness  insulin   BMI  Pedigree  Age  Outcome\n",
      "0         6      148  72             35        0  33.6     0.627   50        1\n",
      "1         1       85  66             29        0  26.6     0.351   31        0\n",
      "2         8      183  64              0        0  23.3     0.672   32        1\n",
      "3         1       89  66             23       94  28.1     0.167   21        0\n",
      "4         0      137  40             35      168  43.1     2.288   33        1\n"
     ]
    }
   ],
   "source": [
    "# set the names of the columns\n",
    "col_names = ['Pregnant', 'Glucose', 'BP', 'SkinThickness', 'insulin', 'BMI', 'Pedigree', 'Age', 'Outcome']\n",
    "\n",
    "# load dataset\n",
    "pima = pd.read_csv(\"pima-indians-diabetes-database.csv\", header = None, names = col_names)\n",
    "\n",
    "n_rows, n_cols = pima.shape\n",
    "print(f'The dataset has {n_rows} rows and {n_cols} columns\\n')\n",
    "\n",
    "# print the first 5 rows of the dataset to make sure it was loaded correctly\n",
    "print(pima.head())"
   ]
  },
  {
   "cell_type": "markdown",
   "metadata": {},
   "source": [
    "\n",
    "# Select data from the csv file to use for the model\n",
    "\n",
    "## Reasons why these features were selected:\n",
    "- Pregnant\n",
    "- Glucose\n",
    "- BP (Blood Pressure)\n",
    "- BMI \n",
    "- Age \n",
    "\n",
    "`Glucose`, `BP`, `BMI` and `Age` are easy traits that is often a good indicator of diabetes.\n",
    "\n",
    "`Pregnancy` although not a direct indicator of diabetes, it is a good indicator of the risk of diabetes and also I wanted to see what would happen. "
   ]
  },
  {
   "cell_type": "code",
   "execution_count": 62,
   "metadata": {},
   "outputs": [
    {
     "name": "stdout",
     "output_type": "stream",
     "text": [
      "   Pregnant  Glucose  BP   BMI  Age  Outcome\n",
      "0         6      148  72  33.6   50        1\n",
      "1         1       85  66  26.6   31        0\n",
      "2         8      183  64  23.3   32        1\n",
      "3         1       89  66  28.1   21        0\n",
      "4         0      137  40  43.1   33        1\n"
     ]
    }
   ],
   "source": [
    "# spotlight is a subset of the dataset that contains only the columns we are interested in\n",
    "spotlight = pima[['Pregnant', 'Glucose', 'BP', 'BMI', 'Age', 'Outcome']]\n",
    "\n",
    "print(spotlight.head())"
   ]
  },
  {
   "cell_type": "markdown",
   "metadata": {},
   "source": [
    "# Replace the bad data \n",
    "\n",
    "## Bad data:\n",
    "- 0 in Glucose, BP, BMI, and Age\n",
    "\n",
    "`Glucose`, `BP`, `BMI`, and `Age` values cannot be 0 \n",
    "Hence, we replace the 0 values with the mean of the respective column. "
   ]
  },
  {
   "cell_type": "code",
   "execution_count": 63,
   "metadata": {},
   "outputs": [
    {
     "name": "stderr",
     "output_type": "stream",
     "text": [
      "/var/folders/22/hdrqs83s5z94vp_xg1v9l_180000gn/T/ipykernel_37404/2134239773.py:8: SettingWithCopyWarning: \n",
      "A value is trying to be set on a copy of a slice from a DataFrame\n",
      "\n",
      "See the caveats in the documentation: https://pandas.pydata.org/pandas-docs/stable/user_guide/indexing.html#returning-a-view-versus-a-copy\n",
      "  X.replace(0, np.nan, inplace=True)\n",
      "/var/folders/22/hdrqs83s5z94vp_xg1v9l_180000gn/T/ipykernel_37404/2134239773.py:9: SettingWithCopyWarning: \n",
      "A value is trying to be set on a copy of a slice from a DataFrame\n",
      "\n",
      "See the caveats in the documentation: https://pandas.pydata.org/pandas-docs/stable/user_guide/indexing.html#returning-a-view-versus-a-copy\n",
      "  X.fillna(X.median(), inplace=True)\n"
     ]
    }
   ],
   "source": [
    "X = spotlight[['Pregnant', 'Glucose', 'BP', 'BMI', 'Age']]\n",
    "y = spotlight['Outcome']\n",
    "\n",
    "# Replace bad data with median value\n",
    "# this will replace all 0 values with the median value of the column they are in\n",
    "# excluding pregnant column\n",
    "# Replace bad data with median value, excluding 'Pregnant' column\n",
    "X.replace(0, np.nan, inplace=True)\n",
    "X.fillna(X.median(), inplace=True)\n"
   ]
  },
  {
   "cell_type": "markdown",
   "metadata": {},
   "source": [
    "# Feature Scaling\n",
    "\n",
    "scale all columns to ensure that the learning reate produces a similar size step in each dimension\n",
    "\n",
    "#### The following cell also contains step 6 and 7\n",
    "\n",
    "- Use “train _test_split” from sklearn.model_selection to split test and training data by 40%\n",
    "testing + 60% training. (1pt)\n",
    "\n",
    "- fit your model wiht the trainign data and test model after fitting"
   ]
  },
  {
   "cell_type": "code",
   "execution_count": 64,
   "metadata": {},
   "outputs": [
    {
     "name": "stdout",
     "output_type": "stream",
     "text": [
      "Unique values in y_test: [0 1]\n",
      "Unique values in y_pred: [0 1]\n"
     ]
    }
   ],
   "source": [
    "# Feature scaling\n",
    "mins = X.min() \n",
    "maxes = X.max()\n",
    "X = (X - mins) / (maxes - mins)\n",
    "\n",
    "# Split the dataset into the training set and test set \n",
    "# 40% Testing : 60% Training\n",
    "X_train, X_test, y_train, y_test = train_test_split(X, y, test_size = 0.4, random_state = 0)\n",
    "\n",
    "# Fit the Model\n",
    "model = LogisticRegression()\n",
    "model.fit(X_train, y_train)\n",
    "\n",
    "# Test Model rounded to the nearest integer\n",
    "y_pred = model.predict(X_test)\n",
    "\n",
    "# print contents of y to make sure output is binary\n",
    "print(\"Unique values in y_test:\", np.unique(y_test))\n",
    "print(\"Unique values in y_pred:\", np.unique(y_pred))\n"
   ]
  },
  {
   "cell_type": "markdown",
   "metadata": {},
   "source": [
    "# Calculate and Print\n",
    "- Confusion Matrix\n",
    "- precision, recall, and F1 score"
   ]
  },
  {
   "cell_type": "code",
   "execution_count": 65,
   "metadata": {},
   "outputs": [
    {
     "name": "stdout",
     "output_type": "stream",
     "text": [
      "Confusion Matrix: [[189  16]\n",
      " [ 53  50]]\n",
      "Precision Score: 0.7575757575757576\n",
      "Recall Score: 0.4854368932038835\n",
      "F1 Score: 0.591715976331361\n"
     ]
    }
   ],
   "source": [
    "# Declaring the confusion matrix\n",
    "confusion_matrix = confusion_matrix(y_test, y_pred)\n",
    "precision = precision_score(y_test, y_pred)\n",
    "recall = recall_score(y_test, y_pred)\n",
    "f1 = f1_score(y_test, y_pred)\n",
    "\n",
    "# Print the results\n",
    "print(f'Confusion Matrix: {confusion_matrix}')\n",
    "print(f'Precision Score: {precision}')\n",
    "print(f'Recall Score: {recall}')\n",
    "print(f'F1 Score: {f1}')\n"
   ]
  },
  {
   "cell_type": "markdown",
   "metadata": {},
   "source": [
    "# Plot out the ROC curve and print out the ROC_AUC score"
   ]
  },
  {
   "cell_type": "code",
   "execution_count": 66,
   "metadata": {},
   "outputs": [
    {
     "data": {
      "image/png": "[encoded data removed]",
      "text/plain": [
       "<Figure size 640x480 with 1 Axes>"
      ]
     },
     "metadata": {},
     "output_type": "display_data"
    },
    {
     "name": "stdout",
     "output_type": "stream",
     "text": [
      "ROC AUC Score: 0.8353303338858631\n"
     ]
    }
   ],
   "source": [
    "# ROC Curve\n",
    "y_pred_proba = model.predict_proba(X_test)[:,1]\n",
    "fpr, tpr, thresholds = roc_curve(y_test, y_pred_proba)\n",
    "roc_auc = roc_auc_score(y_test, y_pred_proba)\n",
    "\n",
    "# plot ROC curve\n",
    "plt.figure()\n",
    "plt.plot(fpr, tpr, color='darkorange', lw=2, label='ROC curve (area = %0.2f)' % roc_auc)\n",
    "plt.plot([0, 1], [0, 1], color='navy', lw=2, linestyle='--')\n",
    "plt.xlim([0.0, 1.0])\n",
    "plt.ylim([0.0, 1.05])\n",
    "plt.xlabel('False Positive Rate')\n",
    "plt.ylabel('True Positive Rate')\n",
    "plt.title('Receiver Operating Characteristic')\n",
    "plt.legend(loc=\"lower right\")\n",
    "plt.show()\n",
    "\n",
    "print(\"ROC AUC Score:\", roc_auc)\n"
   ]
  },
  {
   "cell_type": "markdown",
   "metadata": {},
   "source": [
    "# ROC AUC Score of 0.835\n",
    "\n",
    "## Conclusion:\n",
    "- Based on the ROC AUC score, we can conclude that the model has a `83.5%` chance of distinguishing between positive and negative classes.\n",
    "\n",
    "#### Although the mdoel is not perfect it is a good start to learning about logistic regression\n"
   ]
  }
 ],
 "metadata": {
  "kernelspec": {
   "display_name": "Python 3",
   "language": "python",
   "name": "python3"
  },
  "language_info": {
   "codemirror_mode": {
    "name": "ipython",
    "version": 3
   },
   "file_extension": ".py",
   "mimetype": "text/x-python",
   "name": "python",
   "nbconvert_exporter": "python",
   "pygments_lexer": "ipython3",
   "version": "3.11.8"
  }
 },
 "nbformat": 4,
 "nbformat_minor": 2
}
